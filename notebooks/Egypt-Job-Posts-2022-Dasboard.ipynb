{
 "cells": [
  {
   "cell_type": "code",
   "execution_count": 1,
   "id": "dc9f79e1",
   "metadata": {},
   "outputs": [],
   "source": [
    "import dash\n",
    "from dash import Dash, html, dcc\n",
    "import dash_bootstrap_components as dbc\n",
    "import plotly.express as px\n",
    "import pandas as pd\n",
    "from dash.dependencies import Input, Output, State\n",
    "import numpy as np"
   ]
  },
  {
   "cell_type": "code",
   "execution_count": 2,
   "id": "b094b284",
   "metadata": {},
   "outputs": [],
   "source": [
    "app = Dash(\n",
    "    external_stylesheets=[dbc.themes.DARKLY], update_title='Loading...'\n",
    ")"
   ]
  },
  {
   "cell_type": "code",
   "execution_count": 3,
   "id": "78656d23",
   "metadata": {},
   "outputs": [],
   "source": [
    "#Side Bar Code\n",
    "# the style arguments for the sidebar. We use position:fixed and a fixed width\n",
    "SIDEBAR_STYLE = {\n",
    "    \"position\": \"fixed\",\n",
    "    \"top\": \"10rem\",\n",
    "    \"left\": 0,\n",
    "    \"bottom\": 0,\n",
    "    \"width\": \"25rem\",\n",
    "    \"padding\": \"2rem 1rem\",\n",
    "    \"background-color\": \"#222\",\n",
    "}\n",
    "\n",
    "# the styles for the main content position it to the right of the sidebar and\n",
    "# add some padding.\n",
    "CONTENT_STYLE = {\n",
    "    \"margin-left\": \"18rem\",\n",
    "    \"margin-right\": \"2rem\",\n",
    "    \"padding\": \"2rem 1rem\",\n",
    "}\n",
    "\n",
    "sideBar = html.Div([\n",
    "        html.H3(\"Filter\", className=\"display-4\"),\n",
    "        html.Hr(),\n",
    "        html.P(\n",
    "            \"A simple sidebar layout with navigation links\", className=\"lead\"\n",
    "        ),\n",
    "        dbc.Nav(\n",
    "            [\n",
    "                dbc.NavLink(\"Home\", href=\"/\", active=\"exact\"),\n",
    "                dbc.NavLink(\"Page 1\", href=\"/page-1\", active=\"exact\"),\n",
    "                dbc.NavLink(\"Page 2\", href=\"/page-2\", active=\"exact\"),\n",
    "            ],\n",
    "            vertical=True,\n",
    "            pills=True,\n",
    "        ),\n",
    "    ],\n",
    "    style=SIDEBAR_STYLE,\n",
    ")\n",
    "\n",
    "content = html.Div(id=\"sidebar-content\", style=CONTENT_STYLE)\n"
   ]
  },
  {
   "cell_type": "code",
   "execution_count": 4,
   "id": "dd73ccd6",
   "metadata": {},
   "outputs": [],
   "source": [
    "#Title Code\n",
    "TITLE_STYLE = {\n",
    "    \"position\": \"flex\",\n",
    "    \"top\": 0,\n",
    "    \"padding\": \"2rem 2rem\",\n",
    "}\n",
    "\n",
    "dashboardTitle = html.Div([\n",
    "                html.H1(\"Egypt Job Posts 2022\", className=\"twelve columns\", style={\"text-align\": \"center\"})\n",
    "    ], style=TITLE_STYLE,  className = 'row', \n",
    ")"
   ]
  },
  {
   "cell_type": "code",
   "execution_count": 5,
   "id": "79199351",
   "metadata": {},
   "outputs": [],
   "source": [
    "#cards\n",
    "CARD_STYLE={\n",
    "    \"width\": \"18rem\"\n",
    "}\n",
    "\n",
    "card1 = dbc.Card(\n",
    "    [\n",
    "        \n",
    "        dbc.CardBody(\n",
    "            html.P(\"This card 1\", className=\"card-text\", style={\"text-align\": \"center\"})\n",
    "        ),\n",
    "    ],\n",
    "    style=CARD_STYLE,\n",
    ")\n",
    "\n",
    "card2 = dbc.Card(\n",
    "    [\n",
    "        dbc.CardBody(\n",
    "            html.P(\"This card 2\", className=\"card-text\", style={\"text-align\": \"center\"})\n",
    "        ),\n",
    "        \n",
    "    ],\n",
    "    style=CARD_STYLE,\n",
    ")\n",
    "\n",
    "card3 = dbc.Card(\n",
    "    [\n",
    "        dbc.CardBody(\n",
    "            html.P(\"This card 3\", className=\"card-text\", style={\"text-align\": \"center\"})\n",
    "        ),\n",
    "        \n",
    "    ],\n",
    "    style=CARD_STYLE,\n",
    ")\n",
    "\n",
    "card4= dbc.Card(\n",
    "    [\n",
    "        dbc.CardBody(\n",
    "            html.P(\"This card 4\", className=\"card-text\", style={\"text-align\": \"center\"})\n",
    "        ),\n",
    "        \n",
    "    ],\n",
    "    style=CARD_STYLE,\n",
    ")\n",
    "\n",
    "cards = dbc.Row(\n",
    "    [\n",
    "        dbc.Col(card1, width=\"auto\"),\n",
    "        dbc.Col(card2, width=\"auto\"),\n",
    "        dbc.Col(card3, width=\"auto\"),\n",
    "        dbc.Col(card4, width=\"auto\"),\n",
    "    ]\n",
    ")"
   ]
  },
  {
   "cell_type": "code",
   "execution_count": 6,
   "id": "63ac22df",
   "metadata": {},
   "outputs": [],
   "source": [
    "app.layout = html.Div([\n",
    "            dashboardTitle, sideBar, cards\n",
    "                            \n",
    "            ])"
   ]
  },
  {
   "cell_type": "code",
   "execution_count": null,
   "id": "9feb74cf",
   "metadata": {},
   "outputs": [],
   "source": []
  },
  {
   "cell_type": "code",
   "execution_count": null,
   "id": "ecafcd2f",
   "metadata": {},
   "outputs": [
    {
     "name": "stdout",
     "output_type": "stream",
     "text": [
      "Dash is running on http://127.0.0.1:8050/\n",
      "\n",
      " * Serving Flask app \"__main__\" (lazy loading)\n",
      " * Environment: production\n",
      "\u001b[31m   WARNING: This is a development server. Do not use it in a production deployment.\u001b[0m\n",
      "\u001b[2m   Use a production WSGI server instead.\u001b[0m\n",
      " * Debug mode: off\n"
     ]
    },
    {
     "name": "stderr",
     "output_type": "stream",
     "text": [
      " * Running on http://127.0.0.1:8050/ (Press CTRL+C to quit)\n",
      "127.0.0.1 - - [21/Apr/2022 13:54:43] \"GET / HTTP/1.1\" 200 -\n",
      "127.0.0.1 - - [21/Apr/2022 13:54:43] \"GET /_dash-component-suites/dash/deps/polyfill@7.v2_3_0m1647776574.12.1.min.js HTTP/1.1\" 200 -\n",
      "127.0.0.1 - - [21/Apr/2022 13:54:43] \"GET /_dash-component-suites/dash/deps/react@16.v2_3_0m1647776574.14.0.min.js HTTP/1.1\" 200 -\n",
      "127.0.0.1 - - [21/Apr/2022 13:54:43] \"GET /_dash-component-suites/dash/deps/react-dom@16.v2_3_0m1647776574.14.0.min.js HTTP/1.1\" 200 -\n",
      "127.0.0.1 - - [21/Apr/2022 13:54:43] \"GET /_dash-component-suites/dash/deps/prop-types@15.v2_3_0m1647776574.7.2.min.js HTTP/1.1\" 200 -\n",
      "127.0.0.1 - - [21/Apr/2022 13:54:43] \"GET /_dash-component-suites/dash_bootstrap_components/_components/dash_bootstrap_components.v1_0_3m1648451819.min.js HTTP/1.1\" 200 -\n",
      "127.0.0.1 - - [21/Apr/2022 13:54:43] \"GET /_dash-component-suites/dash/dash-renderer/build/dash_renderer.v2_3_0m1647776574.min.js HTTP/1.1\" 200 -\n",
      "127.0.0.1 - - [21/Apr/2022 13:54:43] \"GET /_dash-component-suites/dash/dcc/dash_core_components.v2_3_0m1647776574.js HTTP/1.1\" 200 -\n",
      "127.0.0.1 - - [21/Apr/2022 13:54:43] \"GET /_dash-component-suites/dash/html/dash_html_components.v2_0_2m1647776574.min.js HTTP/1.1\" 200 -\n",
      "127.0.0.1 - - [21/Apr/2022 13:54:43] \"GET /_dash-component-suites/dash/dcc/dash_core_components-shared.v2_3_0m1647776574.js HTTP/1.1\" 200 -\n",
      "127.0.0.1 - - [21/Apr/2022 13:54:43] \"GET /_dash-component-suites/dash/dash_table/bundle.v5_1_1m1647776574.js HTTP/1.1\" 200 -\n",
      "127.0.0.1 - - [21/Apr/2022 13:54:43] \"GET /_dash-layout HTTP/1.1\" 200 -\n",
      "127.0.0.1 - - [21/Apr/2022 13:54:43] \"GET /_dash-dependencies HTTP/1.1\" 200 -\n",
      "127.0.0.1 - - [21/Apr/2022 13:58:34] \"GET / HTTP/1.1\" 200 -\n",
      "127.0.0.1 - - [21/Apr/2022 13:58:34] \"GET /_dash-layout HTTP/1.1\" 200 -\n",
      "127.0.0.1 - - [21/Apr/2022 13:58:34] \"GET /_dash-dependencies HTTP/1.1\" 200 -\n",
      "127.0.0.1 - - [21/Apr/2022 13:58:34] \"GET /_favicon.ico?v=2.3.0 HTTP/1.1\" 200 -\n"
     ]
    }
   ],
   "source": [
    "app.title = 'Egypt Job Posts 2022'\n",
    "if __name__ == \"__main__\":\n",
    "    app.run_server()"
   ]
  },
  {
   "cell_type": "code",
   "execution_count": null,
   "id": "7ee9ac22",
   "metadata": {},
   "outputs": [],
   "source": []
  }
 ],
 "metadata": {
  "kernelspec": {
   "display_name": "Python 3 (ipykernel)",
   "language": "python",
   "name": "python3"
  },
  "language_info": {
   "codemirror_mode": {
    "name": "ipython",
    "version": 3
   },
   "file_extension": ".py",
   "mimetype": "text/x-python",
   "name": "python",
   "nbconvert_exporter": "python",
   "pygments_lexer": "ipython3",
   "version": "3.7.3"
  }
 },
 "nbformat": 4,
 "nbformat_minor": 5
}
